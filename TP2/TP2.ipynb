{
 "cells": [
  {
   "cell_type": "markdown",
   "id": "d3c1bcad",
   "metadata": {},
   "source": [
    "## TP-3: Processing and Document Representation\n",
    "\n",
    "### requirements\n",
    "- nltk: 3.9.2\n",
    "\n",
    "```bash\n",
    "pip install nltk==3.9.2\n",
    "``` "
   ]
  },
  {
   "cell_type": "code",
   "execution_count": 1,
   "id": "69764a5b",
   "metadata": {},
   "outputs": [
    {
     "name": "stdout",
     "output_type": "stream",
     "text": [
      "Requirement already satisfied: nltk==3.9.2 in /home/zeus/miniconda3/envs/cloudspace/lib/python3.12/site-packages (3.9.2)\n",
      "Requirement already satisfied: click in /home/zeus/miniconda3/envs/cloudspace/lib/python3.12/site-packages (from nltk==3.9.2) (8.3.0)\n",
      "Requirement already satisfied: joblib in /home/zeus/miniconda3/envs/cloudspace/lib/python3.12/site-packages (from nltk==3.9.2) (1.5.2)\n",
      "Requirement already satisfied: regex>=2021.8.3 in /home/zeus/miniconda3/envs/cloudspace/lib/python3.12/site-packages (from nltk==3.9.2) (2025.10.23)\n",
      "Requirement already satisfied: tqdm in /home/zeus/miniconda3/envs/cloudspace/lib/python3.12/site-packages (from nltk==3.9.2) (4.67.1)\n",
      "Note: you may need to restart the kernel to use updated packages.\n"
     ]
    }
   ],
   "source": [
    "%pip install nltk==3.9.2"
   ]
  },
  {
   "cell_type": "markdown",
   "id": "ced799f5",
   "metadata": {},
   "source": [
    "### Load Text"
   ]
  },
  {
   "cell_type": "code",
   "execution_count": 1,
   "id": "755ccf98",
   "metadata": {},
   "outputs": [
    {
     "name": "stdout",
     "output_type": "stream",
     "text": [
      "Text\n",
      "https://en.wikipedia.org/wiki/Elon_Musk\n",
      "\"Elon Reeve Musk FRS (/?i?l?n/ EE-lon; born June 28, 1971) is a business magnate, investor and philanthropist. He is the founder, CEO and Chief Engineer at SpaceX; angel investor, CEO and Product Architect of Tesla, Inc.; founder of The Boring Company; and co-founder of Neuralink and OpenAI. With an estimated net worth of around US$265 billion as of May 2022,[4] Musk is the wealthiest person in the world according to both the Bloomberg Billionaires Index and the Forbes real-time billionaires list.[5][6]\"\n",
      "\"Musk was born to a Canadian mother and White South African father, and raised in Pretoria, South Africa. He briefly attended the University of Pretoria before moving to Canada at age 17. He matriculated at Queen's University and transferred to the University of Pennsylvania two years later, where he received a bachelor's degree in Economics and Physics. He moved to California in 1995 to attend Stanford University but decided instead to pursue a business career, co-founding the web software company Zip2 with his brother Kimbal. The startup was acquired by Compaq for $307 million in 1999. The same year, Musk co-founded online bank X.com, which merged with Confinity in 2000 to form PayPal. The company was bought by eBay in 2002 for $1.5 billion.\"\n",
      "\"In 2002, Musk founded SpaceX, an aerospace manufacturer and space transport services company, of which he serves as CEO and Chief Engineer. In 2004, he joined electric vehicle manufacturer Tesla Motors, Inc. (now Tesla, Inc.) as chairman and product architect, eventually assuming the position of CEO in 2008. In 2006, he helped create SolarCity, a solar energy company that was later acquired by Tesla and became Tesla Energy. In 2015, he co-founded OpenAI, a nonprofit research company that promotes friendly artificial intelligence (AI). In 2016, he co-founded Neuralink, a neurotechnology company focused on developing brain–computer interfaces, and founded The Boring Company, a tunnel construction company. He also agreed to purchase the major American social networking service Twitter in 2022 for $44 billion. Musk has proposed the Hyperloop, a high-speed vactrain transportation system. He is the president of the Musk Foundation, an organization which donates to scientific research and education.\"\n",
      "\"Musk has been criticized for making unscientific and controversial statements, such as spreading misinformation about the COVID-19 pandemic. In 2018, he was sued by the US Securities and Exchange Commission (SEC) for falsely tweeting that he had secured funding for a private takeover of Tesla; he settled with the SEC but did not admit guilt, and temporarily stepped down from his Tesla chairmanship. In 2019, he won a defamation case brought against him by a British caver who had advised in the Tham Luang cave rescue.\"\n",
      "\n"
     ]
    }
   ],
   "source": [
    "# error different encoding\n",
    "elon_musk_csv_link = \"https://github.com/PLSeng/WR/raw/refs/heads/main/TP2/elon_musk.csv\"\n",
    "\n",
    "import urllib.request\n",
    "\n",
    "with urllib.request.urlopen(elon_musk_csv_link) as response:\n",
    "    text = response.read().decode(\"cp1252\")\n",
    "\n",
    "print(text)"
   ]
  },
  {
   "cell_type": "markdown",
   "id": "260e9c04",
   "metadata": {},
   "source": [
    "### 2. Remove URLs from Text"
   ]
  },
  {
   "cell_type": "code",
   "execution_count": 3,
   "id": "657fee95",
   "metadata": {},
   "outputs": [
    {
     "name": "stdout",
     "output_type": "stream",
     "text": [
      "Text\n",
      "\n",
      "\"Elon Reeve Musk FRS (/?i?l?n/ EE-lon; born June 28, 1971) is a business magnate, investor and philanthropist. He is the founder, CEO and Chief Engineer at SpaceX; angel investor, CEO and Product Architect of Tesla, Inc.; founder of The Boring Company; and co-founder of Neuralink and OpenAI. With an estimated net worth of around US$265 billion as of May 2022,[4] Musk is the wealthiest person in the world according to both the Bloomberg Billionaires Index and the Forbes real-time billionaires list.[5][6]\"\n",
      "\"Musk was born to a Canadian mother and White South African father, and raised in Pretoria, South Africa. He briefly attended the University of Pretoria before moving to Canada at age 17. He matriculated at Queen's University and transferred to the University of Pennsylvania two years later, where he received a bachelor's degree in Economics and Physics. He moved to California in 1995 to attend Stanford University but decided instead to pursue a business career, co-founding the web software company Zip2 with his brother Kimbal. The startup was acquired by Compaq for $307 million in 1999. The same year, Musk co-founded online bank X.com, which merged with Confinity in 2000 to form PayPal. The company was bought by eBay in 2002 for $1.5 billion.\"\n",
      "\"In 2002, Musk founded SpaceX, an aerospace manufacturer and space transport services company, of which he serves as CEO and Chief Engineer. In 2004, he joined electric vehicle manufacturer Tesla Motors, Inc. (now Tesla, Inc.) as chairman and product architect, eventually assuming the position of CEO in 2008. In 2006, he helped create SolarCity, a solar energy company that was later acquired by Tesla and became Tesla Energy. In 2015, he co-founded OpenAI, a nonprofit research company that promotes friendly artificial intelligence (AI). In 2016, he co-founded Neuralink, a neurotechnology company focused on developing brain–computer interfaces, and founded The Boring Company, a tunnel construction company. He also agreed to purchase the major American social networking service Twitter in 2022 for $44 billion. Musk has proposed the Hyperloop, a high-speed vactrain transportation system. He is the president of the Musk Foundation, an organization which donates to scientific research and education.\"\n",
      "\"Musk has been criticized for making unscientific and controversial statements, such as spreading misinformation about the COVID-19 pandemic. In 2018, he was sued by the US Securities and Exchange Commission (SEC) for falsely tweeting that he had secured funding for a private takeover of Tesla; he settled with the SEC but did not admit guilt, and temporarily stepped down from his Tesla chairmanship. In 2019, he won a defamation case brought against him by a British caver who had advised in the Tham Luang cave rescue.\"\n",
      "\n"
     ]
    }
   ],
   "source": [
    "import re\n",
    "\n",
    "urls_pattern = r'https?://\\S+'\n",
    "cleaned_urls_txt = re.sub(urls_pattern, '', text)\n",
    "\n",
    "print(cleaned_urls_txt)"
   ]
  },
  {
   "cell_type": "markdown",
   "id": "e9edb38a",
   "metadata": {},
   "source": [
    "### 1. Remove Punctuation from Text"
   ]
  },
  {
   "cell_type": "code",
   "execution_count": 4,
   "id": "4d5f02a3",
   "metadata": {},
   "outputs": [
    {
     "name": "stdout",
     "output_type": "stream",
     "text": [
      "Text\n",
      "\n",
      "Elon Reeve Musk FRS iln EElon born June 28 1971 is a business magnate investor and philanthropist He is the founder CEO and Chief Engineer at SpaceX angel investor CEO and Product Architect of Tesla Inc founder of The Boring Company and cofounder of Neuralink and OpenAI With an estimated net worth of around US265 billion as of May 20224 Musk is the wealthiest person in the world according to both the Bloomberg Billionaires Index and the Forbes realtime billionaires list56\n",
      "Musk was born to a Canadian mother and White South African father and raised in Pretoria South Africa He briefly attended the University of Pretoria before moving to Canada at age 17 He matriculated at Queens University and transferred to the University of Pennsylvania two years later where he received a bachelors degree in Economics and Physics He moved to California in 1995 to attend Stanford University but decided instead to pursue a business career cofounding the web software company Zip2 with his brother Kimbal The startup was acquired by Compaq for 307 million in 1999 The same year Musk cofounded online bank Xcom which merged with Confinity in 2000 to form PayPal The company was bought by eBay in 2002 for 15 billion\n",
      "In 2002 Musk founded SpaceX an aerospace manufacturer and space transport services company of which he serves as CEO and Chief Engineer In 2004 he joined electric vehicle manufacturer Tesla Motors Inc now Tesla Inc as chairman and product architect eventually assuming the position of CEO in 2008 In 2006 he helped create SolarCity a solar energy company that was later acquired by Tesla and became Tesla Energy In 2015 he cofounded OpenAI a nonprofit research company that promotes friendly artificial intelligence AI In 2016 he cofounded Neuralink a neurotechnology company focused on developing brain–computer interfaces and founded The Boring Company a tunnel construction company He also agreed to purchase the major American social networking service Twitter in 2022 for 44 billion Musk has proposed the Hyperloop a highspeed vactrain transportation system He is the president of the Musk Foundation an organization which donates to scientific research and education\n",
      "Musk has been criticized for making unscientific and controversial statements such as spreading misinformation about the COVID19 pandemic In 2018 he was sued by the US Securities and Exchange Commission SEC for falsely tweeting that he had secured funding for a private takeover of Tesla he settled with the SEC but did not admit guilt and temporarily stepped down from his Tesla chairmanship In 2019 he won a defamation case brought against him by a British caver who had advised in the Tham Luang cave rescue\n",
      "\n"
     ]
    }
   ],
   "source": [
    "import string\n",
    "\n",
    "translator = str.maketrans(\"\", \"\", string.punctuation)\n",
    "cleaned_text = cleaned_urls_txt.translate(translator)\n",
    "\n",
    "print(cleaned_text)"
   ]
  },
  {
   "cell_type": "markdown",
   "id": "d50cb126",
   "metadata": {},
   "source": [
    "### 3. Lowercasing"
   ]
  },
  {
   "cell_type": "code",
   "execution_count": 5,
   "id": "85949359",
   "metadata": {},
   "outputs": [
    {
     "name": "stdout",
     "output_type": "stream",
     "text": [
      "text\n",
      "\n",
      "elon reeve musk frs iln eelon born june 28 1971 is a business magnate investor and philanthropist he is the founder ceo and chief engineer at spacex angel investor ceo and product architect of tesla inc founder of the boring company and cofounder of neuralink and openai with an estimated net worth of around us265 billion as of may 20224 musk is the wealthiest person in the world according to both the bloomberg billionaires index and the forbes realtime billionaires list56\n",
      "musk was born to a canadian mother and white south african father and raised in pretoria south africa he briefly attended the university of pretoria before moving to canada at age 17 he matriculated at queens university and transferred to the university of pennsylvania two years later where he received a bachelors degree in economics and physics he moved to california in 1995 to attend stanford university but decided instead to pursue a business career cofounding the web software company zip2 with his brother kimbal the startup was acquired by compaq for 307 million in 1999 the same year musk cofounded online bank xcom which merged with confinity in 2000 to form paypal the company was bought by ebay in 2002 for 15 billion\n",
      "in 2002 musk founded spacex an aerospace manufacturer and space transport services company of which he serves as ceo and chief engineer in 2004 he joined electric vehicle manufacturer tesla motors inc now tesla inc as chairman and product architect eventually assuming the position of ceo in 2008 in 2006 he helped create solarcity a solar energy company that was later acquired by tesla and became tesla energy in 2015 he cofounded openai a nonprofit research company that promotes friendly artificial intelligence ai in 2016 he cofounded neuralink a neurotechnology company focused on developing brain–computer interfaces and founded the boring company a tunnel construction company he also agreed to purchase the major american social networking service twitter in 2022 for 44 billion musk has proposed the hyperloop a highspeed vactrain transportation system he is the president of the musk foundation an organization which donates to scientific research and education\n",
      "musk has been criticized for making unscientific and controversial statements such as spreading misinformation about the covid19 pandemic in 2018 he was sued by the us securities and exchange commission sec for falsely tweeting that he had secured funding for a private takeover of tesla he settled with the sec but did not admit guilt and temporarily stepped down from his tesla chairmanship in 2019 he won a defamation case brought against him by a british caver who had advised in the tham luang cave rescue\n",
      "\n"
     ]
    }
   ],
   "source": [
    "lowercased_text = cleaned_text.lower()\n",
    "\n",
    "print(lowercased_text)"
   ]
  },
  {
   "cell_type": "markdown",
   "id": "d2b4a073",
   "metadata": {},
   "source": [
    "### 4. Tokenization"
   ]
  },
  {
   "cell_type": "code",
   "execution_count": 6,
   "id": "936962ff",
   "metadata": {},
   "outputs": [
    {
     "name": "stdout",
     "output_type": "stream",
     "text": [
      "['text', 'elon', 'reeve', 'musk', 'frs', 'iln', 'eelon', 'born', 'june', '28', '1971', 'is', 'a', 'business', 'magnate', 'investor', 'and', 'philanthropist', 'he', 'is', 'the', 'founder', 'ceo', 'and', 'chief', 'engineer', 'at', 'spacex', 'angel', 'investor', 'ceo', 'and', 'product', 'architect', 'of', 'tesla', 'inc', 'founder', 'of', 'the', 'boring', 'company', 'and', 'cofounder', 'of', 'neuralink', 'and', 'openai', 'with', 'an', 'estimated', 'net', 'worth', 'of', 'around', 'us265', 'billion', 'as', 'of', 'may', '20224', 'musk', 'is', 'the', 'wealthiest', 'person', 'in', 'the', 'world', 'according', 'to', 'both', 'the', 'bloomberg', 'billionaires', 'index', 'and', 'the', 'forbes', 'realtime', 'billionaires', 'list56', 'musk', 'was', 'born', 'to', 'a', 'canadian', 'mother', 'and', 'white', 'south', 'african', 'father', 'and', 'raised', 'in', 'pretoria', 'south', 'africa', 'he', 'briefly', 'attended', 'the', 'university', 'of', 'pretoria', 'before', 'moving', 'to', 'canada', 'at', 'age', '17', 'he', 'matriculated', 'at', 'queens', 'university', 'and', 'transferred', 'to', 'the', 'university', 'of', 'pennsylvania', 'two', 'years', 'later', 'where', 'he', 'received', 'a', 'bachelors', 'degree', 'in', 'economics', 'and', 'physics', 'he', 'moved', 'to', 'california', 'in', '1995', 'to', 'attend', 'stanford', 'university', 'but', 'decided', 'instead', 'to', 'pursue', 'a', 'business', 'career', 'cofounding', 'the', 'web', 'software', 'company', 'zip2', 'with', 'his', 'brother', 'kimbal', 'the', 'startup', 'was', 'acquired', 'by', 'compaq', 'for', '307', 'million', 'in', '1999', 'the', 'same', 'year', 'musk', 'cofounded', 'online', 'bank', 'xcom', 'which', 'merged', 'with', 'confinity', 'in', '2000', 'to', 'form', 'paypal', 'the', 'company', 'was', 'bought', 'by', 'ebay', 'in', '2002', 'for', '15', 'billion', 'in', '2002', 'musk', 'founded', 'spacex', 'an', 'aerospace', 'manufacturer', 'and', 'space', 'transport', 'services', 'company', 'of', 'which', 'he', 'serves', 'as', 'ceo', 'and', 'chief', 'engineer', 'in', '2004', 'he', 'joined', 'electric', 'vehicle', 'manufacturer', 'tesla', 'motors', 'inc', 'now', 'tesla', 'inc', 'as', 'chairman', 'and', 'product', 'architect', 'eventually', 'assuming', 'the', 'position', 'of', 'ceo', 'in', '2008', 'in', '2006', 'he', 'helped', 'create', 'solarcity', 'a', 'solar', 'energy', 'company', 'that', 'was', 'later', 'acquired', 'by', 'tesla', 'and', 'became', 'tesla', 'energy', 'in', '2015', 'he', 'cofounded', 'openai', 'a', 'nonprofit', 'research', 'company', 'that', 'promotes', 'friendly', 'artificial', 'intelligence', 'ai', 'in', '2016', 'he', 'cofounded', 'neuralink', 'a', 'neurotechnology', 'company', 'focused', 'on', 'developing', 'brain–computer', 'interfaces', 'and', 'founded', 'the', 'boring', 'company', 'a', 'tunnel', 'construction', 'company', 'he', 'also', 'agreed', 'to', 'purchase', 'the', 'major', 'american', 'social', 'networking', 'service', 'twitter', 'in', '2022', 'for', '44', 'billion', 'musk', 'has', 'proposed', 'the', 'hyperloop', 'a', 'highspeed', 'vactrain', 'transportation', 'system', 'he', 'is', 'the', 'president', 'of', 'the', 'musk', 'foundation', 'an', 'organization', 'which', 'donates', 'to', 'scientific', 'research', 'and', 'education', 'musk', 'has', 'been', 'criticized', 'for', 'making', 'unscientific', 'and', 'controversial', 'statements', 'such', 'as', 'spreading', 'misinformation', 'about', 'the', 'covid19', 'pandemic', 'in', '2018', 'he', 'was', 'sued', 'by', 'the', 'us', 'securities', 'and', 'exchange', 'commission', 'sec', 'for', 'falsely', 'tweeting', 'that', 'he', 'had', 'secured', 'funding', 'for', 'a', 'private', 'takeover', 'of', 'tesla', 'he', 'settled', 'with', 'the', 'sec', 'but', 'did', 'not', 'admit', 'guilt', 'and', 'temporarily', 'stepped', 'down', 'from', 'his', 'tesla', 'chairmanship', 'in', '2019', 'he', 'won', 'a', 'defamation', 'case', 'brought', 'against', 'him', 'by', 'a', 'british', 'caver', 'who', 'had', 'advised', 'in', 'the', 'tham', 'luang', 'cave', 'rescue']\n"
     ]
    }
   ],
   "source": [
    "import nltk\n",
    "from nltk.tokenize import word_tokenize\n",
    "\n",
    "tokens = word_tokenize(lowercased_text)\n",
    "\n",
    "print(tokens)"
   ]
  },
  {
   "cell_type": "markdown",
   "id": "afd942e4",
   "metadata": {},
   "source": [
    "### 5. Stemming"
   ]
  },
  {
   "cell_type": "code",
   "execution_count": 7,
   "id": "c6404108",
   "metadata": {},
   "outputs": [
    {
     "name": "stdout",
     "output_type": "stream",
     "text": [
      "['elon', 'reev', 'musk', 'fr', 'iln', 'eelon', 'born', 'june', '28', '1971', 'is', 'a', 'busi', 'magnat', 'investor', 'and', 'philanthropist', 'he', 'is', 'the', 'founder', 'ceo', 'and', 'chief', 'engin', 'at', 'spacex', 'angel', 'investor', 'ceo', 'and', 'product', 'architect', 'of', 'tesla', 'inc', 'founder', 'of', 'the', 'bore', 'compani', 'and', 'cofound', 'of', 'neuralink', 'and', 'openai', 'with', 'an', 'estim', 'net', 'worth', 'of', 'around', 'us265', 'billion', 'as', 'of', 'may', '20224', 'musk', 'is', 'the', 'wealthiest', 'person', 'in', 'the', 'world', 'accord', 'to', 'both', 'the', 'bloomberg', 'billionair', 'index', 'and', 'the', 'forb', 'realtim', 'billionair', 'list56', 'musk', 'wa', 'born', 'to', 'a', 'canadian', 'mother', 'and', 'white', 'south', 'african', 'father', 'and', 'rais', 'in', 'pretoria', 'south', 'africa', 'he', 'briefli', 'attend', 'the', 'univers', 'of', 'pretoria', 'befor', 'move', 'to', 'canada', 'at', 'age', '17', 'he', 'matricul', 'at', 'queen', 'univers', 'and', 'transfer', 'to', 'the', 'univers', 'of', 'pennsylvania', 'two', 'year', 'later', 'where', 'he', 'receiv', 'a', 'bachelor', 'degre', 'in', 'econom', 'and', 'physic', 'he', 'move', 'to', 'california', 'in', '1995', 'to', 'attend', 'stanford', 'univers', 'but', 'decid', 'instead', 'to', 'pursu', 'a', 'busi', 'career', 'cofound', 'the', 'web', 'softwar', 'compani', 'zip2', 'with', 'hi', 'brother', 'kimbal', 'the', 'startup', 'wa', 'acquir', 'by', 'compaq', 'for', '307', 'million', 'in', '1999', 'the', 'same', 'year', 'musk', 'cofound', 'onlin', 'bank', 'xcom', 'which', 'merg', 'with', 'confin', 'in', '2000', 'to', 'form', 'paypal', 'the', 'compani', 'wa', 'bought', 'by', 'ebay', 'in', '2002', 'for', '15', 'billion', 'in', '2002', 'musk', 'found', 'spacex', 'an', 'aerospac', 'manufactur', 'and', 'space', 'transport', 'servic', 'compani', 'of', 'which', 'he', 'serv', 'as', 'ceo', 'and', 'chief', 'engin', 'in', '2004', 'he', 'join', 'electr', 'vehicl', 'manufactur', 'tesla', 'motor', 'inc', 'now', 'tesla', 'inc', 'as', 'chairman', 'and', 'product', 'architect', 'eventu', 'assum', 'the', 'posit', 'of', 'ceo', 'in', '2008', 'in', '2006', 'he', 'help', 'creat', 'solarc', 'a', 'solar', 'energi', 'compani', 'that', 'wa', 'later', 'acquir', 'by', 'tesla', 'and', 'becam', 'tesla', 'energi', 'in', '2015', 'he', 'cofound', 'openai', 'a', 'nonprofit', 'research', 'compani', 'that', 'promot', 'friendli', 'artifici', 'intellig', 'ai', 'in', '2016', 'he', 'cofound', 'neuralink', 'a', 'neurotechnolog', 'compani', 'focus', 'on', 'develop', 'brain–comput', 'interfac', 'and', 'found', 'the', 'bore', 'compani', 'a', 'tunnel', 'construct', 'compani', 'he', 'also', 'agre', 'to', 'purchas', 'the', 'major', 'american', 'social', 'network', 'servic', 'twitter', 'in', '2022', 'for', '44', 'billion', 'musk', 'ha', 'propos', 'the', 'hyperloop', 'a', 'highspe', 'vactrain', 'transport', 'system', 'he', 'is', 'the', 'presid', 'of', 'the', 'musk', 'foundat', 'an', 'organ', 'which', 'donat', 'to', 'scientif', 'research', 'and', 'educ', 'musk', 'ha', 'been', 'critic', 'for', 'make', 'unscientif', 'and', 'controversi', 'statement', 'such', 'as', 'spread', 'misinform', 'about', 'the', 'covid19', 'pandem', 'in', '2018', 'he', 'wa', 'su', 'by', 'the', 'us', 'secur', 'and', 'exchang', 'commiss', 'sec', 'for', 'fals', 'tweet', 'that', 'he', 'had', 'secur', 'fund', 'for', 'a', 'privat', 'takeov', 'of', 'tesla', 'he', 'settl', 'with', 'the', 'sec', 'but', 'did', 'not', 'admit', 'guilt', 'and', 'temporarili', 'step', 'down', 'from', 'hi', 'tesla', 'chairmanship', 'in', '2019', 'he', 'won', 'a', 'defam', 'case', 'brought', 'against', 'him', 'by', 'a', 'british', 'caver', 'who', 'had', 'advis', 'in', 'the', 'tham', 'luang', 'cave', 'rescu']\n"
     ]
    }
   ],
   "source": [
    "from nltk.stem import PorterStemmer\n",
    "\n",
    "ps = PorterStemmer()\n",
    "stemmed_tokens = [ps.stem(token) for token in tokens]\n",
    "\n",
    "stemmed_tokens.pop(0) \n",
    "print(stemmed_tokens)"
   ]
  },
  {
   "cell_type": "markdown",
   "id": "364466cf",
   "metadata": {},
   "source": [
    "### 6. Lemmatization"
   ]
  },
  {
   "cell_type": "code",
   "execution_count": 8,
   "id": "7dd0f83c",
   "metadata": {},
   "outputs": [
    {
     "name": "stderr",
     "output_type": "stream",
     "text": [
      "[nltk_data] Downloading package wordnet to\n",
      "[nltk_data]     /teamspace/studios/this_studio/nltk_data...\n",
      "[nltk_data]   Package wordnet is already up-to-date!\n"
     ]
    },
    {
     "data": {
      "text/plain": [
       "True"
      ]
     },
     "execution_count": 8,
     "metadata": {},
     "output_type": "execute_result"
    }
   ],
   "source": [
    "from nltk.stem import WordNetLemmatizer\n",
    "\n",
    "nltk.download('wordnet')"
   ]
  },
  {
   "cell_type": "code",
   "execution_count": 9,
   "id": "29126ff0",
   "metadata": {},
   "outputs": [
    {
     "name": "stdout",
     "output_type": "stream",
     "text": [
      "['text', 'elon', 'reeve', 'musk', 'fr', 'iln', 'eelon', 'born', 'june', '28', '1971', 'is', 'a', 'business', 'magnate', 'investor', 'and', 'philanthropist', 'he', 'is', 'the', 'founder', 'ceo', 'and', 'chief', 'engineer', 'at', 'spacex', 'angel', 'investor', 'ceo', 'and', 'product', 'architect', 'of', 'tesla', 'inc', 'founder', 'of', 'the', 'boring', 'company', 'and', 'cofounder', 'of', 'neuralink', 'and', 'openai', 'with', 'an', 'estimated', 'net', 'worth', 'of', 'around', 'us265', 'billion', 'a', 'of', 'may', '20224', 'musk', 'is', 'the', 'wealthiest', 'person', 'in', 'the', 'world', 'according', 'to', 'both', 'the', 'bloomberg', 'billionaire', 'index', 'and', 'the', 'forbes', 'realtime', 'billionaire', 'list56', 'musk', 'wa', 'born', 'to', 'a', 'canadian', 'mother', 'and', 'white', 'south', 'african', 'father', 'and', 'raised', 'in', 'pretoria', 'south', 'africa', 'he', 'briefly', 'attended', 'the', 'university', 'of', 'pretoria', 'before', 'moving', 'to', 'canada', 'at', 'age', '17', 'he', 'matriculated', 'at', 'queen', 'university', 'and', 'transferred', 'to', 'the', 'university', 'of', 'pennsylvania', 'two', 'year', 'later', 'where', 'he', 'received', 'a', 'bachelor', 'degree', 'in', 'economics', 'and', 'physic', 'he', 'moved', 'to', 'california', 'in', '1995', 'to', 'attend', 'stanford', 'university', 'but', 'decided', 'instead', 'to', 'pursue', 'a', 'business', 'career', 'cofounding', 'the', 'web', 'software', 'company', 'zip2', 'with', 'his', 'brother', 'kimbal', 'the', 'startup', 'wa', 'acquired', 'by', 'compaq', 'for', '307', 'million', 'in', '1999', 'the', 'same', 'year', 'musk', 'cofounded', 'online', 'bank', 'xcom', 'which', 'merged', 'with', 'confinity', 'in', '2000', 'to', 'form', 'paypal', 'the', 'company', 'wa', 'bought', 'by', 'ebay', 'in', '2002', 'for', '15', 'billion', 'in', '2002', 'musk', 'founded', 'spacex', 'an', 'aerospace', 'manufacturer', 'and', 'space', 'transport', 'service', 'company', 'of', 'which', 'he', 'serf', 'a', 'ceo', 'and', 'chief', 'engineer', 'in', '2004', 'he', 'joined', 'electric', 'vehicle', 'manufacturer', 'tesla', 'motor', 'inc', 'now', 'tesla', 'inc', 'a', 'chairman', 'and', 'product', 'architect', 'eventually', 'assuming', 'the', 'position', 'of', 'ceo', 'in', '2008', 'in', '2006', 'he', 'helped', 'create', 'solarcity', 'a', 'solar', 'energy', 'company', 'that', 'wa', 'later', 'acquired', 'by', 'tesla', 'and', 'became', 'tesla', 'energy', 'in', '2015', 'he', 'cofounded', 'openai', 'a', 'nonprofit', 'research', 'company', 'that', 'promotes', 'friendly', 'artificial', 'intelligence', 'ai', 'in', '2016', 'he', 'cofounded', 'neuralink', 'a', 'neurotechnology', 'company', 'focused', 'on', 'developing', 'brain–computer', 'interface', 'and', 'founded', 'the', 'boring', 'company', 'a', 'tunnel', 'construction', 'company', 'he', 'also', 'agreed', 'to', 'purchase', 'the', 'major', 'american', 'social', 'networking', 'service', 'twitter', 'in', '2022', 'for', '44', 'billion', 'musk', 'ha', 'proposed', 'the', 'hyperloop', 'a', 'highspeed', 'vactrain', 'transportation', 'system', 'he', 'is', 'the', 'president', 'of', 'the', 'musk', 'foundation', 'an', 'organization', 'which', 'donates', 'to', 'scientific', 'research', 'and', 'education', 'musk', 'ha', 'been', 'criticized', 'for', 'making', 'unscientific', 'and', 'controversial', 'statement', 'such', 'a', 'spreading', 'misinformation', 'about', 'the', 'covid19', 'pandemic', 'in', '2018', 'he', 'wa', 'sued', 'by', 'the', 'u', 'security', 'and', 'exchange', 'commission', 'sec', 'for', 'falsely', 'tweeting', 'that', 'he', 'had', 'secured', 'funding', 'for', 'a', 'private', 'takeover', 'of', 'tesla', 'he', 'settled', 'with', 'the', 'sec', 'but', 'did', 'not', 'admit', 'guilt', 'and', 'temporarily', 'stepped', 'down', 'from', 'his', 'tesla', 'chairmanship', 'in', '2019', 'he', 'won', 'a', 'defamation', 'case', 'brought', 'against', 'him', 'by', 'a', 'british', 'caver', 'who', 'had', 'advised', 'in', 'the', 'tham', 'luang', 'cave', 'rescue']\n"
     ]
    }
   ],
   "source": [
    "lemmatizer = WordNetLemmatizer()\n",
    "lemmatized_tokens = [lemmatizer.lemmatize(token) for token in tokens]\n",
    "\n",
    "print(lemmatized_tokens)"
   ]
  }
 ],
 "metadata": {
  "kernelspec": {
   "display_name": "cloudspace",
   "language": "python",
   "name": "python3"
  },
  "language_info": {
   "codemirror_mode": {
    "name": "ipython",
    "version": 3
   },
   "file_extension": ".py",
   "mimetype": "text/x-python",
   "name": "python",
   "nbconvert_exporter": "python",
   "pygments_lexer": "ipython3",
   "version": "3.12.11"
  }
 },
 "nbformat": 4,
 "nbformat_minor": 5
}
